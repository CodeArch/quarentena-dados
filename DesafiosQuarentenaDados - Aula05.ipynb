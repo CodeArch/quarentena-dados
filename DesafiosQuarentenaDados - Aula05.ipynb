{
  "nbformat": 4,
  "nbformat_minor": 0,
  "metadata": {
    "colab": {
      "name": "DesafiosQuarentenaDados - Aula05.ipynb",
      "provenance": []
    },
    "kernelspec": {
      "name": "python3",
      "display_name": "Python 3"
    }
  },
  "cells": [
    {
      "cell_type": "code",
      "metadata": {
        "id": "vTa6Vz0LGUyv",
        "colab_type": "code",
        "outputId": "2be194fa-d088-44c7-f7e9-a4f22790db23",
        "colab": {
          "base_uri": "https://localhost:8080/",
          "height": 256
        }
      },
      "source": [
        "import pandas as pd\n",
        "\n",
        "%precision %.2f\n",
        "pd.options.display.float_format = '{:,.2f}'.format\n",
        "\n",
        "uri = 'https://github.com/guilhermesilveira/enem-2018/blob/master/MICRODADOS_ENEM_2018_SAMPLE_43278.csv?raw=true'\n",
        "dados = pd.read_csv(uri)\n",
        "\n",
        "dados.head()"
      ],
      "execution_count": 69,
      "outputs": [
        {
          "output_type": "execute_result",
          "data": {
            "text/html": [
              "<div>\n",
              "<style scoped>\n",
              "    .dataframe tbody tr th:only-of-type {\n",
              "        vertical-align: middle;\n",
              "    }\n",
              "\n",
              "    .dataframe tbody tr th {\n",
              "        vertical-align: top;\n",
              "    }\n",
              "\n",
              "    .dataframe thead th {\n",
              "        text-align: right;\n",
              "    }\n",
              "</style>\n",
              "<table border=\"1\" class=\"dataframe\">\n",
              "  <thead>\n",
              "    <tr style=\"text-align: right;\">\n",
              "      <th></th>\n",
              "      <th>NU_INSCRICAO</th>\n",
              "      <th>NU_ANO</th>\n",
              "      <th>CO_MUNICIPIO_RESIDENCIA</th>\n",
              "      <th>NO_MUNICIPIO_RESIDENCIA</th>\n",
              "      <th>CO_UF_RESIDENCIA</th>\n",
              "      <th>SG_UF_RESIDENCIA</th>\n",
              "      <th>NU_IDADE</th>\n",
              "      <th>TP_SEXO</th>\n",
              "      <th>TP_ESTADO_CIVIL</th>\n",
              "      <th>TP_COR_RACA</th>\n",
              "      <th>TP_NACIONALIDADE</th>\n",
              "      <th>CO_MUNICIPIO_NASCIMENTO</th>\n",
              "      <th>NO_MUNICIPIO_NASCIMENTO</th>\n",
              "      <th>CO_UF_NASCIMENTO</th>\n",
              "      <th>SG_UF_NASCIMENTO</th>\n",
              "      <th>TP_ST_CONCLUSAO</th>\n",
              "      <th>TP_ANO_CONCLUIU</th>\n",
              "      <th>TP_ESCOLA</th>\n",
              "      <th>TP_ENSINO</th>\n",
              "      <th>IN_TREINEIRO</th>\n",
              "      <th>CO_ESCOLA</th>\n",
              "      <th>CO_MUNICIPIO_ESC</th>\n",
              "      <th>NO_MUNICIPIO_ESC</th>\n",
              "      <th>CO_UF_ESC</th>\n",
              "      <th>SG_UF_ESC</th>\n",
              "      <th>TP_DEPENDENCIA_ADM_ESC</th>\n",
              "      <th>TP_LOCALIZACAO_ESC</th>\n",
              "      <th>TP_SIT_FUNC_ESC</th>\n",
              "      <th>IN_BAIXA_VISAO</th>\n",
              "      <th>IN_CEGUEIRA</th>\n",
              "      <th>IN_SURDEZ</th>\n",
              "      <th>IN_DEFICIENCIA_AUDITIVA</th>\n",
              "      <th>IN_SURDO_CEGUEIRA</th>\n",
              "      <th>IN_DEFICIENCIA_FISICA</th>\n",
              "      <th>IN_DEFICIENCIA_MENTAL</th>\n",
              "      <th>IN_DEFICIT_ATENCAO</th>\n",
              "      <th>IN_DISLEXIA</th>\n",
              "      <th>IN_DISCALCULIA</th>\n",
              "      <th>IN_AUTISMO</th>\n",
              "      <th>IN_VISAO_MONOCULAR</th>\n",
              "      <th>...</th>\n",
              "      <th>TX_RESPOSTAS_MT</th>\n",
              "      <th>TP_LINGUA</th>\n",
              "      <th>TX_GABARITO_CN</th>\n",
              "      <th>TX_GABARITO_CH</th>\n",
              "      <th>TX_GABARITO_LC</th>\n",
              "      <th>TX_GABARITO_MT</th>\n",
              "      <th>TP_STATUS_REDACAO</th>\n",
              "      <th>NU_NOTA_COMP1</th>\n",
              "      <th>NU_NOTA_COMP2</th>\n",
              "      <th>NU_NOTA_COMP3</th>\n",
              "      <th>NU_NOTA_COMP4</th>\n",
              "      <th>NU_NOTA_COMP5</th>\n",
              "      <th>NU_NOTA_REDACAO</th>\n",
              "      <th>Q001</th>\n",
              "      <th>Q002</th>\n",
              "      <th>Q003</th>\n",
              "      <th>Q004</th>\n",
              "      <th>Q005</th>\n",
              "      <th>Q006</th>\n",
              "      <th>Q007</th>\n",
              "      <th>Q008</th>\n",
              "      <th>Q009</th>\n",
              "      <th>Q010</th>\n",
              "      <th>Q011</th>\n",
              "      <th>Q012</th>\n",
              "      <th>Q013</th>\n",
              "      <th>Q014</th>\n",
              "      <th>Q015</th>\n",
              "      <th>Q016</th>\n",
              "      <th>Q017</th>\n",
              "      <th>Q018</th>\n",
              "      <th>Q019</th>\n",
              "      <th>Q020</th>\n",
              "      <th>Q021</th>\n",
              "      <th>Q022</th>\n",
              "      <th>Q023</th>\n",
              "      <th>Q024</th>\n",
              "      <th>Q025</th>\n",
              "      <th>Q026</th>\n",
              "      <th>Q027</th>\n",
              "    </tr>\n",
              "  </thead>\n",
              "  <tbody>\n",
              "    <tr>\n",
              "      <th>0</th>\n",
              "      <td>180009327796</td>\n",
              "      <td>2018</td>\n",
              "      <td>2112209</td>\n",
              "      <td>Timon</td>\n",
              "      <td>21</td>\n",
              "      <td>MA</td>\n",
              "      <td>34.00</td>\n",
              "      <td>M</td>\n",
              "      <td>1.00</td>\n",
              "      <td>1</td>\n",
              "      <td>1</td>\n",
              "      <td>2,207,702.00</td>\n",
              "      <td>Parnaíba</td>\n",
              "      <td>22.00</td>\n",
              "      <td>PI</td>\n",
              "      <td>1</td>\n",
              "      <td>5</td>\n",
              "      <td>1</td>\n",
              "      <td>3.00</td>\n",
              "      <td>0</td>\n",
              "      <td>nan</td>\n",
              "      <td>nan</td>\n",
              "      <td>NaN</td>\n",
              "      <td>nan</td>\n",
              "      <td>NaN</td>\n",
              "      <td>nan</td>\n",
              "      <td>nan</td>\n",
              "      <td>nan</td>\n",
              "      <td>0</td>\n",
              "      <td>0</td>\n",
              "      <td>0</td>\n",
              "      <td>1</td>\n",
              "      <td>0</td>\n",
              "      <td>0</td>\n",
              "      <td>0</td>\n",
              "      <td>0</td>\n",
              "      <td>0</td>\n",
              "      <td>0</td>\n",
              "      <td>0</td>\n",
              "      <td>0</td>\n",
              "      <td>...</td>\n",
              "      <td>NaN</td>\n",
              "      <td>1</td>\n",
              "      <td>NaN</td>\n",
              "      <td>NaN</td>\n",
              "      <td>NaN</td>\n",
              "      <td>NaN</td>\n",
              "      <td>nan</td>\n",
              "      <td>nan</td>\n",
              "      <td>nan</td>\n",
              "      <td>nan</td>\n",
              "      <td>nan</td>\n",
              "      <td>nan</td>\n",
              "      <td>nan</td>\n",
              "      <td>B</td>\n",
              "      <td>B</td>\n",
              "      <td>B</td>\n",
              "      <td>B</td>\n",
              "      <td>4</td>\n",
              "      <td>C</td>\n",
              "      <td>A</td>\n",
              "      <td>B</td>\n",
              "      <td>C</td>\n",
              "      <td>A</td>\n",
              "      <td>B</td>\n",
              "      <td>B</td>\n",
              "      <td>A</td>\n",
              "      <td>B</td>\n",
              "      <td>A</td>\n",
              "      <td>B</td>\n",
              "      <td>A</td>\n",
              "      <td>A</td>\n",
              "      <td>B</td>\n",
              "      <td>A</td>\n",
              "      <td>A</td>\n",
              "      <td>C</td>\n",
              "      <td>A</td>\n",
              "      <td>B</td>\n",
              "      <td>B</td>\n",
              "      <td>A</td>\n",
              "      <td>A</td>\n",
              "    </tr>\n",
              "    <tr>\n",
              "      <th>1</th>\n",
              "      <td>180012890374</td>\n",
              "      <td>2018</td>\n",
              "      <td>3557105</td>\n",
              "      <td>Votuporanga</td>\n",
              "      <td>35</td>\n",
              "      <td>SP</td>\n",
              "      <td>14.00</td>\n",
              "      <td>M</td>\n",
              "      <td>0.00</td>\n",
              "      <td>1</td>\n",
              "      <td>1</td>\n",
              "      <td>3,557,105.00</td>\n",
              "      <td>Votuporanga</td>\n",
              "      <td>35.00</td>\n",
              "      <td>SP</td>\n",
              "      <td>4</td>\n",
              "      <td>0</td>\n",
              "      <td>1</td>\n",
              "      <td>nan</td>\n",
              "      <td>0</td>\n",
              "      <td>nan</td>\n",
              "      <td>nan</td>\n",
              "      <td>NaN</td>\n",
              "      <td>nan</td>\n",
              "      <td>NaN</td>\n",
              "      <td>nan</td>\n",
              "      <td>nan</td>\n",
              "      <td>nan</td>\n",
              "      <td>0</td>\n",
              "      <td>0</td>\n",
              "      <td>0</td>\n",
              "      <td>0</td>\n",
              "      <td>0</td>\n",
              "      <td>0</td>\n",
              "      <td>0</td>\n",
              "      <td>0</td>\n",
              "      <td>0</td>\n",
              "      <td>0</td>\n",
              "      <td>0</td>\n",
              "      <td>0</td>\n",
              "      <td>...</td>\n",
              "      <td>ADDEDEEBCAADDEDEBECCBAECECEDBAADEABAECDADECDC</td>\n",
              "      <td>0</td>\n",
              "      <td>BCACEEBBBDACEDECAADDDABDBCCACDCBCEDEDABEBEAEA</td>\n",
              "      <td>CDECAABBDDECBEEDBEBBEBEDEEEBCEAEECECCDBDDCACD</td>\n",
              "      <td>CBEDBBBDCBECADBBBECBEAECABDADACDBABCECBBEDADAB...</td>\n",
              "      <td>ADAEDABBCAADBEXEBBDEEADCCCCDACEDDABCBCAAEBBDD</td>\n",
              "      <td>1.00</td>\n",
              "      <td>160.00</td>\n",
              "      <td>120.00</td>\n",
              "      <td>120.00</td>\n",
              "      <td>160.00</td>\n",
              "      <td>120.00</td>\n",
              "      <td>680.00</td>\n",
              "      <td>F</td>\n",
              "      <td>F</td>\n",
              "      <td>A</td>\n",
              "      <td>D</td>\n",
              "      <td>4</td>\n",
              "      <td>N</td>\n",
              "      <td>A</td>\n",
              "      <td>D</td>\n",
              "      <td>D</td>\n",
              "      <td>C</td>\n",
              "      <td>A</td>\n",
              "      <td>B</td>\n",
              "      <td>A</td>\n",
              "      <td>B</td>\n",
              "      <td>A</td>\n",
              "      <td>B</td>\n",
              "      <td>A</td>\n",
              "      <td>A</td>\n",
              "      <td>C</td>\n",
              "      <td>A</td>\n",
              "      <td>B</td>\n",
              "      <td>E</td>\n",
              "      <td>B</td>\n",
              "      <td>D</td>\n",
              "      <td>B</td>\n",
              "      <td>D</td>\n",
              "      <td>D</td>\n",
              "    </tr>\n",
              "    <tr>\n",
              "      <th>2</th>\n",
              "      <td>180008223824</td>\n",
              "      <td>2018</td>\n",
              "      <td>2506301</td>\n",
              "      <td>Guarabira</td>\n",
              "      <td>25</td>\n",
              "      <td>PB</td>\n",
              "      <td>20.00</td>\n",
              "      <td>F</td>\n",
              "      <td>0.00</td>\n",
              "      <td>2</td>\n",
              "      <td>1</td>\n",
              "      <td>2,506,301.00</td>\n",
              "      <td>Guarabira</td>\n",
              "      <td>25.00</td>\n",
              "      <td>PB</td>\n",
              "      <td>1</td>\n",
              "      <td>3</td>\n",
              "      <td>1</td>\n",
              "      <td>1.00</td>\n",
              "      <td>0</td>\n",
              "      <td>nan</td>\n",
              "      <td>nan</td>\n",
              "      <td>NaN</td>\n",
              "      <td>nan</td>\n",
              "      <td>NaN</td>\n",
              "      <td>nan</td>\n",
              "      <td>nan</td>\n",
              "      <td>nan</td>\n",
              "      <td>0</td>\n",
              "      <td>0</td>\n",
              "      <td>0</td>\n",
              "      <td>0</td>\n",
              "      <td>0</td>\n",
              "      <td>0</td>\n",
              "      <td>0</td>\n",
              "      <td>0</td>\n",
              "      <td>0</td>\n",
              "      <td>0</td>\n",
              "      <td>0</td>\n",
              "      <td>0</td>\n",
              "      <td>...</td>\n",
              "      <td>ABCBEECAABDDADCACAAAABDDEDACAEEECCDCEBBABBECB</td>\n",
              "      <td>1</td>\n",
              "      <td>BDDEDBCACEBCCACDCDDAECAADBDBCEEAEAABEBEBBACED</td>\n",
              "      <td>CACDDBDDECCEDEEEBCEAEECBBEBEDBEDECBEBDCAABCDE</td>\n",
              "      <td>BBDECBBCDBCECBABDBEDACDDBBBEADECACEDBEBABCBEAE...</td>\n",
              "      <td>ACEADCEBBDADAAEBBDDEDABADBEXCCCDBCAEEACBCDDAB</td>\n",
              "      <td>1.00</td>\n",
              "      <td>120.00</td>\n",
              "      <td>120.00</td>\n",
              "      <td>120.00</td>\n",
              "      <td>120.00</td>\n",
              "      <td>120.00</td>\n",
              "      <td>600.00</td>\n",
              "      <td>E</td>\n",
              "      <td>E</td>\n",
              "      <td>B</td>\n",
              "      <td>B</td>\n",
              "      <td>5</td>\n",
              "      <td>B</td>\n",
              "      <td>A</td>\n",
              "      <td>B</td>\n",
              "      <td>D</td>\n",
              "      <td>A</td>\n",
              "      <td>A</td>\n",
              "      <td>B</td>\n",
              "      <td>A</td>\n",
              "      <td>A</td>\n",
              "      <td>A</td>\n",
              "      <td>B</td>\n",
              "      <td>A</td>\n",
              "      <td>A</td>\n",
              "      <td>B</td>\n",
              "      <td>A</td>\n",
              "      <td>A</td>\n",
              "      <td>D</td>\n",
              "      <td>A</td>\n",
              "      <td>B</td>\n",
              "      <td>B</td>\n",
              "      <td>A</td>\n",
              "      <td>E</td>\n",
              "    </tr>\n",
              "    <tr>\n",
              "      <th>3</th>\n",
              "      <td>180007859645</td>\n",
              "      <td>2018</td>\n",
              "      <td>3534807</td>\n",
              "      <td>Ouro Verde</td>\n",
              "      <td>35</td>\n",
              "      <td>SP</td>\n",
              "      <td>17.00</td>\n",
              "      <td>F</td>\n",
              "      <td>0.00</td>\n",
              "      <td>2</td>\n",
              "      <td>1</td>\n",
              "      <td>3,514,403.00</td>\n",
              "      <td>Dracena</td>\n",
              "      <td>35.00</td>\n",
              "      <td>SP</td>\n",
              "      <td>2</td>\n",
              "      <td>0</td>\n",
              "      <td>1</td>\n",
              "      <td>1.00</td>\n",
              "      <td>0</td>\n",
              "      <td>nan</td>\n",
              "      <td>nan</td>\n",
              "      <td>NaN</td>\n",
              "      <td>nan</td>\n",
              "      <td>NaN</td>\n",
              "      <td>nan</td>\n",
              "      <td>nan</td>\n",
              "      <td>nan</td>\n",
              "      <td>0</td>\n",
              "      <td>0</td>\n",
              "      <td>0</td>\n",
              "      <td>0</td>\n",
              "      <td>0</td>\n",
              "      <td>0</td>\n",
              "      <td>0</td>\n",
              "      <td>0</td>\n",
              "      <td>0</td>\n",
              "      <td>0</td>\n",
              "      <td>0</td>\n",
              "      <td>0</td>\n",
              "      <td>...</td>\n",
              "      <td>DEBEBEABDABECACDDDECBBDDBCBBCABDAACCECBABDCDA</td>\n",
              "      <td>0</td>\n",
              "      <td>ACEDEAEAEBECAADABBDBCEDEDDCDDABCCACBCACEBDEBB</td>\n",
              "      <td>ECCBBEBEDBEDBDDAEECDECBECACDEDEECDECAABBDEBCE</td>\n",
              "      <td>BCDEBDBCBBACDCBEAECBABADBBECECBDBBEABDADACEDEC...</td>\n",
              "      <td>EBBDEECCCDACEADCBCAAEBBCBCADAEDABADDADDABDBEX</td>\n",
              "      <td>1.00</td>\n",
              "      <td>100.00</td>\n",
              "      <td>120.00</td>\n",
              "      <td>100.00</td>\n",
              "      <td>80.00</td>\n",
              "      <td>0.00</td>\n",
              "      <td>400.00</td>\n",
              "      <td>B</td>\n",
              "      <td>D</td>\n",
              "      <td>C</td>\n",
              "      <td>C</td>\n",
              "      <td>7</td>\n",
              "      <td>F</td>\n",
              "      <td>A</td>\n",
              "      <td>B</td>\n",
              "      <td>D</td>\n",
              "      <td>B</td>\n",
              "      <td>A</td>\n",
              "      <td>B</td>\n",
              "      <td>B</td>\n",
              "      <td>B</td>\n",
              "      <td>A</td>\n",
              "      <td>A</td>\n",
              "      <td>A</td>\n",
              "      <td>A</td>\n",
              "      <td>B</td>\n",
              "      <td>A</td>\n",
              "      <td>A</td>\n",
              "      <td>E</td>\n",
              "      <td>A</td>\n",
              "      <td>A</td>\n",
              "      <td>A</td>\n",
              "      <td>B</td>\n",
              "      <td>A</td>\n",
              "    </tr>\n",
              "    <tr>\n",
              "      <th>4</th>\n",
              "      <td>180013499517</td>\n",
              "      <td>2018</td>\n",
              "      <td>3523107</td>\n",
              "      <td>Itaquaquecetuba</td>\n",
              "      <td>35</td>\n",
              "      <td>SP</td>\n",
              "      <td>19.00</td>\n",
              "      <td>M</td>\n",
              "      <td>0.00</td>\n",
              "      <td>3</td>\n",
              "      <td>1</td>\n",
              "      <td>3,550,308.00</td>\n",
              "      <td>São Paulo</td>\n",
              "      <td>35.00</td>\n",
              "      <td>SP</td>\n",
              "      <td>1</td>\n",
              "      <td>2</td>\n",
              "      <td>1</td>\n",
              "      <td>1.00</td>\n",
              "      <td>0</td>\n",
              "      <td>nan</td>\n",
              "      <td>nan</td>\n",
              "      <td>NaN</td>\n",
              "      <td>nan</td>\n",
              "      <td>NaN</td>\n",
              "      <td>nan</td>\n",
              "      <td>nan</td>\n",
              "      <td>nan</td>\n",
              "      <td>0</td>\n",
              "      <td>0</td>\n",
              "      <td>0</td>\n",
              "      <td>0</td>\n",
              "      <td>0</td>\n",
              "      <td>0</td>\n",
              "      <td>0</td>\n",
              "      <td>0</td>\n",
              "      <td>0</td>\n",
              "      <td>0</td>\n",
              "      <td>0</td>\n",
              "      <td>0</td>\n",
              "      <td>...</td>\n",
              "      <td>NaN</td>\n",
              "      <td>0</td>\n",
              "      <td>NaN</td>\n",
              "      <td>NaN</td>\n",
              "      <td>NaN</td>\n",
              "      <td>NaN</td>\n",
              "      <td>nan</td>\n",
              "      <td>nan</td>\n",
              "      <td>nan</td>\n",
              "      <td>nan</td>\n",
              "      <td>nan</td>\n",
              "      <td>nan</td>\n",
              "      <td>nan</td>\n",
              "      <td>F</td>\n",
              "      <td>F</td>\n",
              "      <td>B</td>\n",
              "      <td>D</td>\n",
              "      <td>5</td>\n",
              "      <td>E</td>\n",
              "      <td>A</td>\n",
              "      <td>B</td>\n",
              "      <td>C</td>\n",
              "      <td>B</td>\n",
              "      <td>A</td>\n",
              "      <td>B</td>\n",
              "      <td>A</td>\n",
              "      <td>B</td>\n",
              "      <td>A</td>\n",
              "      <td>A</td>\n",
              "      <td>A</td>\n",
              "      <td>A</td>\n",
              "      <td>B</td>\n",
              "      <td>A</td>\n",
              "      <td>A</td>\n",
              "      <td>D</td>\n",
              "      <td>B</td>\n",
              "      <td>B</td>\n",
              "      <td>B</td>\n",
              "      <td>A</td>\n",
              "      <td>A</td>\n",
              "    </tr>\n",
              "  </tbody>\n",
              "</table>\n",
              "<p>5 rows × 137 columns</p>\n",
              "</div>"
            ],
            "text/plain": [
              "   NU_INSCRICAO  NU_ANO  CO_MUNICIPIO_RESIDENCIA  ... Q025  Q026 Q027\n",
              "0  180009327796    2018                  2112209  ...    B     A    A\n",
              "1  180012890374    2018                  3557105  ...    B     D    D\n",
              "2  180008223824    2018                  2506301  ...    B     A    E\n",
              "3  180007859645    2018                  3534807  ...    A     B    A\n",
              "4  180013499517    2018                  3523107  ...    B     A    A\n",
              "\n",
              "[5 rows x 137 columns]"
            ]
          },
          "metadata": {
            "tags": []
          },
          "execution_count": 69
        }
      ]
    },
    {
      "cell_type": "code",
      "metadata": {
        "id": "IuGn8I0DIsbZ",
        "colab_type": "code",
        "outputId": "e8063600-1f63-4640-90e7-01d62ef75696",
        "colab": {
          "base_uri": "https://localhost:8080/",
          "height": 206
        }
      },
      "source": [
        "colunas_de_notas = [\n",
        "                    'NU_NOTA_CN',\n",
        "                    'NU_NOTA_CH',\n",
        "                    'NU_NOTA_LC',\n",
        "                    'NU_NOTA_MT',\n",
        "                    'NU_NOTA_REDACAO'\n",
        "]\n",
        "\n",
        "dados_notas = dados[colunas_de_notas].dropna()\n",
        "dados_notas.columns = [\n",
        "                       'ciencias_naturais',\n",
        "                       'ciencias_humanas',\n",
        "                       'linguagem_codigo',\n",
        "                       'matematica',\n",
        "                       'redacao'\n",
        "]\n",
        "\n",
        "dados_notas.head()"
      ],
      "execution_count": 70,
      "outputs": [
        {
          "output_type": "execute_result",
          "data": {
            "text/html": [
              "<div>\n",
              "<style scoped>\n",
              "    .dataframe tbody tr th:only-of-type {\n",
              "        vertical-align: middle;\n",
              "    }\n",
              "\n",
              "    .dataframe tbody tr th {\n",
              "        vertical-align: top;\n",
              "    }\n",
              "\n",
              "    .dataframe thead th {\n",
              "        text-align: right;\n",
              "    }\n",
              "</style>\n",
              "<table border=\"1\" class=\"dataframe\">\n",
              "  <thead>\n",
              "    <tr style=\"text-align: right;\">\n",
              "      <th></th>\n",
              "      <th>ciencias_naturais</th>\n",
              "      <th>ciencias_humanas</th>\n",
              "      <th>linguagem_codigo</th>\n",
              "      <th>matematica</th>\n",
              "      <th>redacao</th>\n",
              "    </tr>\n",
              "  </thead>\n",
              "  <tbody>\n",
              "    <tr>\n",
              "      <th>1</th>\n",
              "      <td>523.10</td>\n",
              "      <td>671.30</td>\n",
              "      <td>661.60</td>\n",
              "      <td>738.00</td>\n",
              "      <td>680.00</td>\n",
              "    </tr>\n",
              "    <tr>\n",
              "      <th>2</th>\n",
              "      <td>409.20</td>\n",
              "      <td>531.70</td>\n",
              "      <td>389.00</td>\n",
              "      <td>438.10</td>\n",
              "      <td>600.00</td>\n",
              "    </tr>\n",
              "    <tr>\n",
              "      <th>3</th>\n",
              "      <td>452.30</td>\n",
              "      <td>505.50</td>\n",
              "      <td>448.50</td>\n",
              "      <td>544.90</td>\n",
              "      <td>400.00</td>\n",
              "    </tr>\n",
              "    <tr>\n",
              "      <th>6</th>\n",
              "      <td>428.50</td>\n",
              "      <td>505.20</td>\n",
              "      <td>521.00</td>\n",
              "      <td>436.80</td>\n",
              "      <td>560.00</td>\n",
              "    </tr>\n",
              "    <tr>\n",
              "      <th>8</th>\n",
              "      <td>491.80</td>\n",
              "      <td>575.70</td>\n",
              "      <td>524.40</td>\n",
              "      <td>487.60</td>\n",
              "      <td>660.00</td>\n",
              "    </tr>\n",
              "  </tbody>\n",
              "</table>\n",
              "</div>"
            ],
            "text/plain": [
              "   ciencias_naturais  ciencias_humanas  linguagem_codigo  matematica  redacao\n",
              "1             523.10            671.30            661.60      738.00   680.00\n",
              "2             409.20            531.70            389.00      438.10   600.00\n",
              "3             452.30            505.50            448.50      544.90   400.00\n",
              "6             428.50            505.20            521.00      436.80   560.00\n",
              "8             491.80            575.70            524.40      487.60   660.00"
            ]
          },
          "metadata": {
            "tags": []
          },
          "execution_count": 70
        }
      ]
    },
    {
      "cell_type": "code",
      "metadata": {
        "id": "NVjEfmt7J35k",
        "colab_type": "code",
        "outputId": "0a72b444-0e01-41d7-f9d2-ed5909c3d820",
        "colab": {
          "base_uri": "https://localhost:8080/",
          "height": 206
        }
      },
      "source": [
        "# Variáveis para utilização no Machine Learning\n",
        "\n",
        "x = dados_notas[[\n",
        "                 'ciencias_naturais',\n",
        "                 'ciencias_humanas',\n",
        "                 'matematica',\n",
        "                 'redacao'\n",
        "]]\n",
        "\n",
        "x.head()"
      ],
      "execution_count": 71,
      "outputs": [
        {
          "output_type": "execute_result",
          "data": {
            "text/html": [
              "<div>\n",
              "<style scoped>\n",
              "    .dataframe tbody tr th:only-of-type {\n",
              "        vertical-align: middle;\n",
              "    }\n",
              "\n",
              "    .dataframe tbody tr th {\n",
              "        vertical-align: top;\n",
              "    }\n",
              "\n",
              "    .dataframe thead th {\n",
              "        text-align: right;\n",
              "    }\n",
              "</style>\n",
              "<table border=\"1\" class=\"dataframe\">\n",
              "  <thead>\n",
              "    <tr style=\"text-align: right;\">\n",
              "      <th></th>\n",
              "      <th>ciencias_naturais</th>\n",
              "      <th>ciencias_humanas</th>\n",
              "      <th>matematica</th>\n",
              "      <th>redacao</th>\n",
              "    </tr>\n",
              "  </thead>\n",
              "  <tbody>\n",
              "    <tr>\n",
              "      <th>1</th>\n",
              "      <td>523.10</td>\n",
              "      <td>671.30</td>\n",
              "      <td>738.00</td>\n",
              "      <td>680.00</td>\n",
              "    </tr>\n",
              "    <tr>\n",
              "      <th>2</th>\n",
              "      <td>409.20</td>\n",
              "      <td>531.70</td>\n",
              "      <td>438.10</td>\n",
              "      <td>600.00</td>\n",
              "    </tr>\n",
              "    <tr>\n",
              "      <th>3</th>\n",
              "      <td>452.30</td>\n",
              "      <td>505.50</td>\n",
              "      <td>544.90</td>\n",
              "      <td>400.00</td>\n",
              "    </tr>\n",
              "    <tr>\n",
              "      <th>6</th>\n",
              "      <td>428.50</td>\n",
              "      <td>505.20</td>\n",
              "      <td>436.80</td>\n",
              "      <td>560.00</td>\n",
              "    </tr>\n",
              "    <tr>\n",
              "      <th>8</th>\n",
              "      <td>491.80</td>\n",
              "      <td>575.70</td>\n",
              "      <td>487.60</td>\n",
              "      <td>660.00</td>\n",
              "    </tr>\n",
              "  </tbody>\n",
              "</table>\n",
              "</div>"
            ],
            "text/plain": [
              "   ciencias_naturais  ciencias_humanas  matematica  redacao\n",
              "1             523.10            671.30      738.00   680.00\n",
              "2             409.20            531.70      438.10   600.00\n",
              "3             452.30            505.50      544.90   400.00\n",
              "6             428.50            505.20      436.80   560.00\n",
              "8             491.80            575.70      487.60   660.00"
            ]
          },
          "metadata": {
            "tags": []
          },
          "execution_count": 71
        }
      ]
    },
    {
      "cell_type": "code",
      "metadata": {
        "id": "iEXo3p1-Kop6",
        "colab_type": "code",
        "outputId": "0e8ed0c8-70d3-4a75-ecf1-60cf31ac20bd",
        "colab": {
          "base_uri": "https://localhost:8080/",
          "height": 121
        }
      },
      "source": [
        "y = dados_notas['linguagem_codigo']\n",
        "y.head()"
      ],
      "execution_count": 72,
      "outputs": [
        {
          "output_type": "execute_result",
          "data": {
            "text/plain": [
              "1   661.60\n",
              "2   389.00\n",
              "3   448.50\n",
              "6   521.00\n",
              "8   524.40\n",
              "Name: linguagem_codigo, dtype: float64"
            ]
          },
          "metadata": {
            "tags": []
          },
          "execution_count": 72
        }
      ]
    },
    {
      "cell_type": "code",
      "metadata": {
        "id": "zK5vafhMKzR8",
        "colab_type": "code",
        "outputId": "efe5be66-caac-432c-93bf-3009bb198213",
        "colab": {
          "base_uri": "https://localhost:8080/",
          "height": 86
        }
      },
      "source": [
        "# Geração das variáveis de treino e teste para treinar a máquina\n",
        "\n",
        "from sklearn.model_selection import train_test_split\n",
        "import numpy as np\n",
        "\n",
        "np.random.seed(43267)\n",
        "\n",
        "# x é o valor que eu tenho e y é o valor que desejo adivinhar\n",
        "\n",
        "x_treino, x_teste, y_treino, y_teste = train_test_split(x, y, random_state = 326784)\n",
        "\n",
        "print(x_treino.shape)\n",
        "print(x_teste.shape)\n",
        "print(y_treino.shape)\n",
        "print(y_teste.shape)"
      ],
      "execution_count": 73,
      "outputs": [
        {
          "output_type": "stream",
          "text": [
            "(72952, 4)\n",
            "(24318, 4)\n",
            "(72952,)\n",
            "(24318,)\n"
          ],
          "name": "stdout"
        }
      ]
    },
    {
      "cell_type": "markdown",
      "metadata": {
        "id": "kwPpG_bi4MG1",
        "colab_type": "text"
      },
      "source": [
        "## Desafio 1 da [Allan Spadini](https://twitter.com/allanspadini)\n",
        "\n",
        "Explore os parâmetros C e o max_iter do modelo LinesSVR. Não há garantias que o resultado será melhor."
      ]
    },
    {
      "cell_type": "markdown",
      "metadata": {
        "id": "k9mP3obvOauW",
        "colab_type": "text"
      },
      "source": [
        "Padrão, ou seja com C e max_iter não alterados:"
      ]
    },
    {
      "cell_type": "code",
      "metadata": {
        "id": "c2bliGP2F72G",
        "colab_type": "code",
        "outputId": "58b3c112-79ef-4bec-f17e-4f1b3bac89f2",
        "colab": {
          "base_uri": "https://localhost:8080/",
          "height": 124
        }
      },
      "source": [
        "from sklearn.svm import LinearSVR\n",
        "\n",
        "modelo = LinearSVR()\n",
        "modelo.fit(x_treino, y_treino)"
      ],
      "execution_count": 74,
      "outputs": [
        {
          "output_type": "stream",
          "text": [
            "/usr/local/lib/python3.6/dist-packages/sklearn/svm/_base.py:947: ConvergenceWarning: Liblinear failed to converge, increase the number of iterations.\n",
            "  \"the number of iterations.\", ConvergenceWarning)\n"
          ],
          "name": "stderr"
        },
        {
          "output_type": "execute_result",
          "data": {
            "text/plain": [
              "LinearSVR(C=1.0, dual=True, epsilon=0.0, fit_intercept=True,\n",
              "          intercept_scaling=1.0, loss='epsilon_insensitive', max_iter=1000,\n",
              "          random_state=None, tol=0.0001, verbose=0)"
            ]
          },
          "metadata": {
            "tags": []
          },
          "execution_count": 74
        }
      ]
    },
    {
      "cell_type": "code",
      "metadata": {
        "id": "GJCaY_uuMmER",
        "colab_type": "code",
        "outputId": "9c1e95f3-3bef-4019-8117-9ad5d1745c5c",
        "colab": {
          "base_uri": "https://localhost:8080/",
          "height": 52
        }
      },
      "source": [
        "predicoes_nota_linguagem = modelo.predict(x_teste)\n",
        "predicoes_nota_linguagem[:5]"
      ],
      "execution_count": 75,
      "outputs": [
        {
          "output_type": "execute_result",
          "data": {
            "text/plain": [
              "array([591.30581763, 606.46025242, 639.89298788, 555.97651583,\n",
              "       472.52000416])"
            ]
          },
          "metadata": {
            "tags": []
          },
          "execution_count": 75
        }
      ]
    },
    {
      "cell_type": "code",
      "metadata": {
        "id": "NPo6mAIBNENA",
        "colab_type": "code",
        "outputId": "dcda8faa-dea0-4636-ea6d-80f7b22b1037",
        "colab": {
          "base_uri": "https://localhost:8080/",
          "height": 121
        }
      },
      "source": [
        "y_teste[:5]"
      ],
      "execution_count": 76,
      "outputs": [
        {
          "output_type": "execute_result",
          "data": {
            "text/plain": [
              "67300    577.20\n",
              "113766   624.40\n",
              "48328    703.00\n",
              "9454     598.60\n",
              "9515     458.60\n",
              "Name: linguagem_codigo, dtype: float64"
            ]
          },
          "metadata": {
            "tags": []
          },
          "execution_count": 76
        }
      ]
    },
    {
      "cell_type": "markdown",
      "metadata": {
        "id": "fRqqdAVSOita",
        "colab_type": "text"
      },
      "source": [
        "Com max_iter = 2000"
      ]
    },
    {
      "cell_type": "code",
      "metadata": {
        "id": "PJXlRBd_N2AC",
        "colab_type": "code",
        "outputId": "f6d8e2c3-bcbc-44fc-bfa9-32a3f07d0e36",
        "colab": {
          "base_uri": "https://localhost:8080/",
          "height": 124
        }
      },
      "source": [
        "from sklearn.svm import LinearSVR\n",
        "\n",
        "modelo = LinearSVR(max_iter=2000)\n",
        "modelo.fit(x_treino, y_treino)"
      ],
      "execution_count": 77,
      "outputs": [
        {
          "output_type": "stream",
          "text": [
            "/usr/local/lib/python3.6/dist-packages/sklearn/svm/_base.py:947: ConvergenceWarning: Liblinear failed to converge, increase the number of iterations.\n",
            "  \"the number of iterations.\", ConvergenceWarning)\n"
          ],
          "name": "stderr"
        },
        {
          "output_type": "execute_result",
          "data": {
            "text/plain": [
              "LinearSVR(C=1.0, dual=True, epsilon=0.0, fit_intercept=True,\n",
              "          intercept_scaling=1.0, loss='epsilon_insensitive', max_iter=2000,\n",
              "          random_state=None, tol=0.0001, verbose=0)"
            ]
          },
          "metadata": {
            "tags": []
          },
          "execution_count": 77
        }
      ]
    },
    {
      "cell_type": "code",
      "metadata": {
        "id": "dstSXZ6NO12c",
        "colab_type": "code",
        "outputId": "89e11ad5-c6b5-4832-d854-fd669ca083bc",
        "colab": {
          "base_uri": "https://localhost:8080/",
          "height": 52
        }
      },
      "source": [
        "predicoes_nota_linguagem = modelo.predict(x_teste)\n",
        "predicoes_nota_linguagem[:5]"
      ],
      "execution_count": 78,
      "outputs": [
        {
          "output_type": "execute_result",
          "data": {
            "text/plain": [
              "array([612.88597197, 631.27276186, 655.36291987, 564.61439831,\n",
              "       503.00573514])"
            ]
          },
          "metadata": {
            "tags": []
          },
          "execution_count": 78
        }
      ]
    },
    {
      "cell_type": "code",
      "metadata": {
        "id": "_T7Sm1yMO88E",
        "colab_type": "code",
        "outputId": "3ad1da7f-6574-4fe0-8607-9a959f70ae80",
        "colab": {
          "base_uri": "https://localhost:8080/",
          "height": 121
        }
      },
      "source": [
        "y_teste[:5]"
      ],
      "execution_count": 79,
      "outputs": [
        {
          "output_type": "execute_result",
          "data": {
            "text/plain": [
              "67300    577.20\n",
              "113766   624.40\n",
              "48328    703.00\n",
              "9454     598.60\n",
              "9515     458.60\n",
              "Name: linguagem_codigo, dtype: float64"
            ]
          },
          "metadata": {
            "tags": []
          },
          "execution_count": 79
        }
      ]
    },
    {
      "cell_type": "markdown",
      "metadata": {
        "id": "DYkMoSRnPjLR",
        "colab_type": "text"
      },
      "source": [
        "Com C = 0.5"
      ]
    },
    {
      "cell_type": "code",
      "metadata": {
        "id": "dk7Sfxb6PAsd",
        "colab_type": "code",
        "outputId": "36eb39d8-73c9-4279-f512-881ebca63ef6",
        "colab": {
          "base_uri": "https://localhost:8080/",
          "height": 124
        }
      },
      "source": [
        "from sklearn.svm import LinearSVR\n",
        "\n",
        "modelo = LinearSVR(C=0.5)\n",
        "modelo.fit(x_treino, y_treino)"
      ],
      "execution_count": 80,
      "outputs": [
        {
          "output_type": "stream",
          "text": [
            "/usr/local/lib/python3.6/dist-packages/sklearn/svm/_base.py:947: ConvergenceWarning: Liblinear failed to converge, increase the number of iterations.\n",
            "  \"the number of iterations.\", ConvergenceWarning)\n"
          ],
          "name": "stderr"
        },
        {
          "output_type": "execute_result",
          "data": {
            "text/plain": [
              "LinearSVR(C=0.5, dual=True, epsilon=0.0, fit_intercept=True,\n",
              "          intercept_scaling=1.0, loss='epsilon_insensitive', max_iter=1000,\n",
              "          random_state=None, tol=0.0001, verbose=0)"
            ]
          },
          "metadata": {
            "tags": []
          },
          "execution_count": 80
        }
      ]
    },
    {
      "cell_type": "code",
      "metadata": {
        "id": "P80xB3OxPvqS",
        "colab_type": "code",
        "outputId": "5b33ad41-bfbe-4ad5-9e62-8b18e60359ec",
        "colab": {
          "base_uri": "https://localhost:8080/",
          "height": 52
        }
      },
      "source": [
        "predicoes_nota_linguagem = modelo.predict(x_teste)\n",
        "predicoes_nota_linguagem[:5]"
      ],
      "execution_count": 81,
      "outputs": [
        {
          "output_type": "execute_result",
          "data": {
            "text/plain": [
              "array([463.39675405, 488.35477629, 506.54013097, 425.81934719,\n",
              "       372.46650711])"
            ]
          },
          "metadata": {
            "tags": []
          },
          "execution_count": 81
        }
      ]
    },
    {
      "cell_type": "code",
      "metadata": {
        "id": "HJ1BEkvwP2Ev",
        "colab_type": "code",
        "outputId": "514243bd-e869-4a2b-ea6e-89e416e7440d",
        "colab": {
          "base_uri": "https://localhost:8080/",
          "height": 121
        }
      },
      "source": [
        "y_teste[:5]"
      ],
      "execution_count": 82,
      "outputs": [
        {
          "output_type": "execute_result",
          "data": {
            "text/plain": [
              "67300    577.20\n",
              "113766   624.40\n",
              "48328    703.00\n",
              "9454     598.60\n",
              "9515     458.60\n",
              "Name: linguagem_codigo, dtype: float64"
            ]
          },
          "metadata": {
            "tags": []
          },
          "execution_count": 82
        }
      ]
    },
    {
      "cell_type": "markdown",
      "metadata": {
        "id": "LFy98H1MQNl9",
        "colab_type": "text"
      },
      "source": [
        "Com C = 0.1"
      ]
    },
    {
      "cell_type": "code",
      "metadata": {
        "id": "26Kj9o5OP3-8",
        "colab_type": "code",
        "outputId": "e95fe8eb-acfa-4a3c-f8f1-4fbc73dee47b",
        "colab": {
          "base_uri": "https://localhost:8080/",
          "height": 124
        }
      },
      "source": [
        "from sklearn.svm import LinearSVR\n",
        "\n",
        "modelo = LinearSVR(C=0.1)\n",
        "modelo.fit(x_treino, y_treino)"
      ],
      "execution_count": 83,
      "outputs": [
        {
          "output_type": "stream",
          "text": [
            "/usr/local/lib/python3.6/dist-packages/sklearn/svm/_base.py:947: ConvergenceWarning: Liblinear failed to converge, increase the number of iterations.\n",
            "  \"the number of iterations.\", ConvergenceWarning)\n"
          ],
          "name": "stderr"
        },
        {
          "output_type": "execute_result",
          "data": {
            "text/plain": [
              "LinearSVR(C=0.1, dual=True, epsilon=0.0, fit_intercept=True,\n",
              "          intercept_scaling=1.0, loss='epsilon_insensitive', max_iter=1000,\n",
              "          random_state=None, tol=0.0001, verbose=0)"
            ]
          },
          "metadata": {
            "tags": []
          },
          "execution_count": 83
        }
      ]
    },
    {
      "cell_type": "code",
      "metadata": {
        "id": "t5JrSJEcQZBi",
        "colab_type": "code",
        "outputId": "23250d13-8790-48e5-a0b8-3a96c0ccf1eb",
        "colab": {
          "base_uri": "https://localhost:8080/",
          "height": 52
        }
      },
      "source": [
        "predicoes_nota_linguagem = modelo.predict(x_teste)\n",
        "predicoes_nota_linguagem[:5]"
      ],
      "execution_count": 84,
      "outputs": [
        {
          "output_type": "execute_result",
          "data": {
            "text/plain": [
              "array([535.55650043, 544.35920462, 566.00977952, 487.50687035,\n",
              "       422.43807294])"
            ]
          },
          "metadata": {
            "tags": []
          },
          "execution_count": 84
        }
      ]
    },
    {
      "cell_type": "code",
      "metadata": {
        "id": "db6EkRO7Qk2e",
        "colab_type": "code",
        "outputId": "5cbab399-38cd-4f64-eccf-016b35483873",
        "colab": {
          "base_uri": "https://localhost:8080/",
          "height": 121
        }
      },
      "source": [
        "y_teste[:5]"
      ],
      "execution_count": 85,
      "outputs": [
        {
          "output_type": "execute_result",
          "data": {
            "text/plain": [
              "67300    577.20\n",
              "113766   624.40\n",
              "48328    703.00\n",
              "9454     598.60\n",
              "9515     458.60\n",
              "Name: linguagem_codigo, dtype: float64"
            ]
          },
          "metadata": {
            "tags": []
          },
          "execution_count": 85
        }
      ]
    },
    {
      "cell_type": "markdown",
      "metadata": {
        "id": "sNDrsIeGQ-Ol",
        "colab_type": "text"
      },
      "source": [
        "Com C = 2.0"
      ]
    },
    {
      "cell_type": "code",
      "metadata": {
        "id": "vGSvI7vcQ_2_",
        "colab_type": "code",
        "outputId": "c4162d43-62d3-488a-f69f-7ee882a58cc0",
        "colab": {
          "base_uri": "https://localhost:8080/",
          "height": 124
        }
      },
      "source": [
        "from sklearn.svm import LinearSVR\n",
        "\n",
        "modelo = LinearSVR(C = 2.0)\n",
        "modelo.fit(x_treino, y_treino)"
      ],
      "execution_count": 86,
      "outputs": [
        {
          "output_type": "stream",
          "text": [
            "/usr/local/lib/python3.6/dist-packages/sklearn/svm/_base.py:947: ConvergenceWarning: Liblinear failed to converge, increase the number of iterations.\n",
            "  \"the number of iterations.\", ConvergenceWarning)\n"
          ],
          "name": "stderr"
        },
        {
          "output_type": "execute_result",
          "data": {
            "text/plain": [
              "LinearSVR(C=2.0, dual=True, epsilon=0.0, fit_intercept=True,\n",
              "          intercept_scaling=1.0, loss='epsilon_insensitive', max_iter=1000,\n",
              "          random_state=None, tol=0.0001, verbose=0)"
            ]
          },
          "metadata": {
            "tags": []
          },
          "execution_count": 86
        }
      ]
    },
    {
      "cell_type": "code",
      "metadata": {
        "id": "9rwN4nYTRLBY",
        "colab_type": "code",
        "outputId": "80e5da7b-d8ea-4622-cdf9-587bd6ae2db3",
        "colab": {
          "base_uri": "https://localhost:8080/",
          "height": 52
        }
      },
      "source": [
        "predicoes_nota_linguagem = modelo.predict(x_teste)\n",
        "predicoes_nota_linguagem[:5]"
      ],
      "execution_count": 87,
      "outputs": [
        {
          "output_type": "execute_result",
          "data": {
            "text/plain": [
              "array([540.10235918, 558.75680573, 581.82485605, 496.90771797,\n",
              "       435.06063909])"
            ]
          },
          "metadata": {
            "tags": []
          },
          "execution_count": 87
        }
      ]
    },
    {
      "cell_type": "code",
      "metadata": {
        "id": "uuEkoH3qRRGG",
        "colab_type": "code",
        "outputId": "eddc08e5-1c86-47e5-d596-802c53787e26",
        "colab": {
          "base_uri": "https://localhost:8080/",
          "height": 121
        }
      },
      "source": [
        "y_teste[:5]"
      ],
      "execution_count": 88,
      "outputs": [
        {
          "output_type": "execute_result",
          "data": {
            "text/plain": [
              "67300    577.20\n",
              "113766   624.40\n",
              "48328    703.00\n",
              "9454     598.60\n",
              "9515     458.60\n",
              "Name: linguagem_codigo, dtype: float64"
            ]
          },
          "metadata": {
            "tags": []
          },
          "execution_count": 88
        }
      ]
    },
    {
      "cell_type": "markdown",
      "metadata": {
        "id": "im_xLCzJQucZ",
        "colab_type": "text"
      },
      "source": [
        "A partir dos dados que analisei, o modo padrão foi o mais preciso entre os testes"
      ]
    },
    {
      "cell_type": "markdown",
      "metadata": {
        "id": "Y8Tk3fr_6vDR",
        "colab_type": "text"
      },
      "source": [
        "## Desafio 2 do [Thiago Gonçalves](https://twitter.com/tgcsantos)\n",
        "\n",
        "Use a média das notas das 4 provas como input do input e plote um gráfico com a previsão e valores reais (Igual ao gráfico sugerido pelo Allan em aula)"
      ]
    },
    {
      "cell_type": "code",
      "metadata": {
        "id": "3QiNvkp1bKK_",
        "colab_type": "code",
        "outputId": "ae8ebbd5-6db0-4a08-b9fe-2c01757249b0",
        "colab": {
          "base_uri": "https://localhost:8080/",
          "height": 225
        }
      },
      "source": [
        "x.mean(axis=1)"
      ],
      "execution_count": 89,
      "outputs": [
        {
          "output_type": "execute_result",
          "data": {
            "text/plain": [
              "1        653.10\n",
              "2        494.75\n",
              "3        475.67\n",
              "6        482.62\n",
              "8        553.77\n",
              "          ...  \n",
              "137835   537.95\n",
              "137836   513.65\n",
              "137838   623.35\n",
              "137840   468.25\n",
              "137842   463.35\n",
              "Length: 97270, dtype: float64"
            ]
          },
          "metadata": {
            "tags": []
          },
          "execution_count": 89
        }
      ]
    },
    {
      "cell_type": "code",
      "metadata": {
        "id": "0r0ia09XE3WJ",
        "colab_type": "code",
        "outputId": "1087bfea-d7c7-4370-f6d8-cec0f53782e0",
        "colab": {
          "base_uri": "https://localhost:8080/",
          "height": 225
        }
      },
      "source": [
        "y"
      ],
      "execution_count": 90,
      "outputs": [
        {
          "output_type": "execute_result",
          "data": {
            "text/plain": [
              "1        661.60\n",
              "2        389.00\n",
              "3        448.50\n",
              "6        521.00\n",
              "8        524.40\n",
              "          ...  \n",
              "137835   504.80\n",
              "137836   528.50\n",
              "137838   538.30\n",
              "137840   468.10\n",
              "137842   527.70\n",
              "Name: linguagem_codigo, Length: 97270, dtype: float64"
            ]
          },
          "metadata": {
            "tags": []
          },
          "execution_count": 90
        }
      ]
    },
    {
      "cell_type": "code",
      "metadata": {
        "id": "-X-kYCDVFgoM",
        "colab_type": "code",
        "colab": {
          "base_uri": "https://localhost:8080/",
          "height": 86
        },
        "outputId": "57bdf686-fb2e-4047-e1d3-49d533b2c7bf"
      },
      "source": [
        "from sklearn.model_selection import train_test_split\n",
        "\n",
        "x_treino, x_teste, y_treino, y_teste = train_test_split(x.mean(axis=1), y, random_state = 326784)\n",
        "\n",
        "# O uso do reshape se faz necessário porque o método fit() exige arrays\n",
        "# bidimensionais. reshape(-1, 1) é recomendação do sklearn\n",
        "x_treino = x_treino.to_numpy().reshape(-1, 1)\n",
        "x_teste = x_teste.to_numpy().reshape(-1, 1)\n",
        "\n",
        "print(x_treino.shape)\n",
        "print(x_teste.shape)\n",
        "print(y_treino.shape)\n",
        "print(y_teste.shape)"
      ],
      "execution_count": 91,
      "outputs": [
        {
          "output_type": "stream",
          "text": [
            "(72952, 1)\n",
            "(24318, 1)\n",
            "(72952,)\n",
            "(24318,)\n"
          ],
          "name": "stdout"
        }
      ]
    },
    {
      "cell_type": "code",
      "metadata": {
        "id": "DNXSWj30GoKk",
        "colab_type": "code",
        "colab": {
          "base_uri": "https://localhost:8080/",
          "height": 124
        },
        "outputId": "0e4134b0-db08-440a-846d-c0494f57916d"
      },
      "source": [
        "from sklearn.svm import LinearSVR\n",
        "\n",
        "modelo = LinearSVR()\n",
        "modelo.fit(x_treino, y_treino)"
      ],
      "execution_count": 92,
      "outputs": [
        {
          "output_type": "stream",
          "text": [
            "/usr/local/lib/python3.6/dist-packages/sklearn/svm/_base.py:947: ConvergenceWarning: Liblinear failed to converge, increase the number of iterations.\n",
            "  \"the number of iterations.\", ConvergenceWarning)\n"
          ],
          "name": "stderr"
        },
        {
          "output_type": "execute_result",
          "data": {
            "text/plain": [
              "LinearSVR(C=1.0, dual=True, epsilon=0.0, fit_intercept=True,\n",
              "          intercept_scaling=1.0, loss='epsilon_insensitive', max_iter=1000,\n",
              "          random_state=None, tol=0.0001, verbose=0)"
            ]
          },
          "metadata": {
            "tags": []
          },
          "execution_count": 92
        }
      ]
    },
    {
      "cell_type": "code",
      "metadata": {
        "id": "7Iqo5e8aG_Zi",
        "colab_type": "code",
        "colab": {
          "base_uri": "https://localhost:8080/",
          "height": 52
        },
        "outputId": "58c12bd0-d144-4bea-fd38-206983d8fece"
      },
      "source": [
        "predicoes_nota_linguagem = modelo.predict(x_teste)\n",
        "predicoes_nota_linguagem[:5]"
      ],
      "execution_count": 93,
      "outputs": [
        {
          "output_type": "execute_result",
          "data": {
            "text/plain": [
              "array([647.42361256, 664.28624843, 682.42119795, 603.23311304,\n",
              "       564.56194598])"
            ]
          },
          "metadata": {
            "tags": []
          },
          "execution_count": 93
        }
      ]
    },
    {
      "cell_type": "code",
      "metadata": {
        "id": "bfXaEAzZI_U7",
        "colab_type": "code",
        "colab": {
          "base_uri": "https://localhost:8080/",
          "height": 121
        },
        "outputId": "85c560fe-d854-4f1b-bf78-86d70ab10774"
      },
      "source": [
        "y_teste[:5]"
      ],
      "execution_count": 94,
      "outputs": [
        {
          "output_type": "execute_result",
          "data": {
            "text/plain": [
              "67300    577.20\n",
              "113766   624.40\n",
              "48328    703.00\n",
              "9454     598.60\n",
              "9515     458.60\n",
              "Name: linguagem_codigo, dtype: float64"
            ]
          },
          "metadata": {
            "tags": []
          },
          "execution_count": 94
        }
      ]
    },
    {
      "cell_type": "code",
      "metadata": {
        "id": "80oMnnPANN_p",
        "colab_type": "code",
        "colab": {
          "base_uri": "https://localhost:8080/",
          "height": 483
        },
        "outputId": "db92d507-9c17-43d0-bc63-988eb120bdae"
      },
      "source": [
        "import seaborn as sns\n",
        "#import matplotlib.pyplot as plt\n",
        "\n",
        "sns.set_style('whitegrid')\n",
        "plt.figure(figsize=(8, 8))\n",
        "\n",
        "sns.scatterplot(\n",
        "    x = y_teste.values,\n",
        "    y = predicoes_nota_linguagem\n",
        ")\n",
        "\n",
        "plt.show()"
      ],
      "execution_count": 95,
      "outputs": [
        {
          "output_type": "display_data",
          "data": {
            "image/png": "[encoded data removed]",
            "text/plain": [
              "<Figure size 576x576 with 1 Axes>"
            ]
          },
          "metadata": {
            "tags": []
          }
        }
      ]
    },
    {
      "cell_type": "markdown",
      "metadata": {
        "id": "bRZboposJdwf",
        "colab_type": "text"
      },
      "source": [
        "Usar as notas individuais é mais preciso do que usar a média das notas."
      ]
    },
    {
      "cell_type": "markdown",
      "metadata": {
        "id": "13DD9vRM8u9y",
        "colab_type": "text"
      },
      "source": [
        "## Desafio 3 do [Paulo Silveira](https://twitter.com/paulo_caelum)\n",
        "\n",
        "\n",
        "Remover as notas zero e testar os mesmos modelos, comparando o resultado"
      ]
    },
    {
      "cell_type": "code",
      "metadata": {
        "id": "1JkeKR1EJz4L",
        "colab_type": "code",
        "colab": {
          "base_uri": "https://localhost:8080/",
          "height": 206
        },
        "outputId": "6af36283-1cb4-409b-ca31-c1cb2b84e644"
      },
      "source": [
        "notas_sem_0 = dados_notas[(dados_notas != 0).all(1)]\n",
        "notas_sem_0.head()"
      ],
      "execution_count": 96,
      "outputs": [
        {
          "output_type": "execute_result",
          "data": {
            "text/html": [
              "<div>\n",
              "<style scoped>\n",
              "    .dataframe tbody tr th:only-of-type {\n",
              "        vertical-align: middle;\n",
              "    }\n",
              "\n",
              "    .dataframe tbody tr th {\n",
              "        vertical-align: top;\n",
              "    }\n",
              "\n",
              "    .dataframe thead th {\n",
              "        text-align: right;\n",
              "    }\n",
              "</style>\n",
              "<table border=\"1\" class=\"dataframe\">\n",
              "  <thead>\n",
              "    <tr style=\"text-align: right;\">\n",
              "      <th></th>\n",
              "      <th>ciencias_naturais</th>\n",
              "      <th>ciencias_humanas</th>\n",
              "      <th>linguagem_codigo</th>\n",
              "      <th>matematica</th>\n",
              "      <th>redacao</th>\n",
              "    </tr>\n",
              "  </thead>\n",
              "  <tbody>\n",
              "    <tr>\n",
              "      <th>1</th>\n",
              "      <td>523.10</td>\n",
              "      <td>671.30</td>\n",
              "      <td>661.60</td>\n",
              "      <td>738.00</td>\n",
              "      <td>680.00</td>\n",
              "    </tr>\n",
              "    <tr>\n",
              "      <th>2</th>\n",
              "      <td>409.20</td>\n",
              "      <td>531.70</td>\n",
              "      <td>389.00</td>\n",
              "      <td>438.10</td>\n",
              "      <td>600.00</td>\n",
              "    </tr>\n",
              "    <tr>\n",
              "      <th>3</th>\n",
              "      <td>452.30</td>\n",
              "      <td>505.50</td>\n",
              "      <td>448.50</td>\n",
              "      <td>544.90</td>\n",
              "      <td>400.00</td>\n",
              "    </tr>\n",
              "    <tr>\n",
              "      <th>6</th>\n",
              "      <td>428.50</td>\n",
              "      <td>505.20</td>\n",
              "      <td>521.00</td>\n",
              "      <td>436.80</td>\n",
              "      <td>560.00</td>\n",
              "    </tr>\n",
              "    <tr>\n",
              "      <th>8</th>\n",
              "      <td>491.80</td>\n",
              "      <td>575.70</td>\n",
              "      <td>524.40</td>\n",
              "      <td>487.60</td>\n",
              "      <td>660.00</td>\n",
              "    </tr>\n",
              "  </tbody>\n",
              "</table>\n",
              "</div>"
            ],
            "text/plain": [
              "   ciencias_naturais  ciencias_humanas  linguagem_codigo  matematica  redacao\n",
              "1             523.10            671.30            661.60      738.00   680.00\n",
              "2             409.20            531.70            389.00      438.10   600.00\n",
              "3             452.30            505.50            448.50      544.90   400.00\n",
              "6             428.50            505.20            521.00      436.80   560.00\n",
              "8             491.80            575.70            524.40      487.60   660.00"
            ]
          },
          "metadata": {
            "tags": []
          },
          "execution_count": 96
        }
      ]
    },
    {
      "cell_type": "code",
      "metadata": {
        "id": "XdpU62GeK207",
        "colab_type": "code",
        "colab": {}
      },
      "source": [
        "x = notas_sem_0[[\n",
        "                 'ciencias_naturais',\n",
        "                 'ciencias_humanas',\n",
        "                 'matematica',\n",
        "                 'redacao'\n",
        "]]\n",
        "\n",
        "y = notas_sem_0['linguagem_codigo']"
      ],
      "execution_count": 0,
      "outputs": []
    },
    {
      "cell_type": "code",
      "metadata": {
        "id": "_HlNePGgJ3Pl",
        "colab_type": "code",
        "colab": {
          "base_uri": "https://localhost:8080/",
          "height": 86
        },
        "outputId": "6b17bd08-c0d0-46ca-97e8-5f6967afaed2"
      },
      "source": [
        "from sklearn.model_selection import train_test_split\n",
        "\n",
        "x_treino, x_teste, y_treino, y_teste = train_test_split(x, y, random_state = 326784)\n",
        "\n",
        "print(x_treino.shape)\n",
        "print(x_teste.shape)\n",
        "print(y_treino.shape)\n",
        "print(y_teste.shape)"
      ],
      "execution_count": 98,
      "outputs": [
        {
          "output_type": "stream",
          "text": [
            "(71385, 4)\n",
            "(23796, 4)\n",
            "(71385,)\n",
            "(23796,)\n"
          ],
          "name": "stdout"
        }
      ]
    },
    {
      "cell_type": "code",
      "metadata": {
        "id": "rAUZs5UzKEPK",
        "colab_type": "code",
        "colab": {
          "base_uri": "https://localhost:8080/",
          "height": 124
        },
        "outputId": "72662c5e-eaa0-4763-a9ad-1b2bfe04cace"
      },
      "source": [
        "from sklearn.svm import LinearSVR\n",
        "\n",
        "modelo = LinearSVR()\n",
        "modelo.fit(x_treino, y_treino)"
      ],
      "execution_count": 99,
      "outputs": [
        {
          "output_type": "stream",
          "text": [
            "/usr/local/lib/python3.6/dist-packages/sklearn/svm/_base.py:947: ConvergenceWarning: Liblinear failed to converge, increase the number of iterations.\n",
            "  \"the number of iterations.\", ConvergenceWarning)\n"
          ],
          "name": "stderr"
        },
        {
          "output_type": "execute_result",
          "data": {
            "text/plain": [
              "LinearSVR(C=1.0, dual=True, epsilon=0.0, fit_intercept=True,\n",
              "          intercept_scaling=1.0, loss='epsilon_insensitive', max_iter=1000,\n",
              "          random_state=None, tol=0.0001, verbose=0)"
            ]
          },
          "metadata": {
            "tags": []
          },
          "execution_count": 99
        }
      ]
    },
    {
      "cell_type": "code",
      "metadata": {
        "id": "6jBHRhBSLoAS",
        "colab_type": "code",
        "colab": {
          "base_uri": "https://localhost:8080/",
          "height": 52
        },
        "outputId": "84d531f7-2186-4e70-a567-5f12c7df92f3"
      },
      "source": [
        "predicoes_nota_linguagem = modelo.predict(x_teste)\n",
        "predicoes_nota_linguagem[:5]"
      ],
      "execution_count": 100,
      "outputs": [
        {
          "output_type": "execute_result",
          "data": {
            "text/plain": [
              "array([579.86097927, 664.37745565, 502.97305041, 609.6782058 ,\n",
              "       522.1780975 ])"
            ]
          },
          "metadata": {
            "tags": []
          },
          "execution_count": 100
        }
      ]
    },
    {
      "cell_type": "code",
      "metadata": {
        "id": "ZELIbINvLzFI",
        "colab_type": "code",
        "colab": {
          "base_uri": "https://localhost:8080/",
          "height": 121
        },
        "outputId": "92cf0cb5-2eab-4386-ce7f-b39f0f8090a7"
      },
      "source": [
        "y_teste[:5]"
      ],
      "execution_count": 101,
      "outputs": [
        {
          "output_type": "execute_result",
          "data": {
            "text/plain": [
              "67400    601.20\n",
              "103275   694.10\n",
              "110888   504.40\n",
              "38756    609.20\n",
              "108828   455.80\n",
              "Name: linguagem_codigo, dtype: float64"
            ]
          },
          "metadata": {
            "tags": []
          },
          "execution_count": 101
        }
      ]
    },
    {
      "cell_type": "markdown",
      "metadata": {
        "id": "79W6GaW0M6B8",
        "colab_type": "text"
      },
      "source": [
        "A precisão nessa amostra sem os valores 0 foi consideravelmente menor"
      ]
    },
    {
      "cell_type": "code",
      "metadata": {
        "id": "4CDa3H7lL0ff",
        "colab_type": "code",
        "colab": {
          "base_uri": "https://localhost:8080/",
          "height": 483
        },
        "outputId": "459daf0a-c970-4f92-96a7-e36884883702"
      },
      "source": [
        "import seaborn as sns\n",
        "\n",
        "plt.figure(figsize=(8, 8))\n",
        "\n",
        "sns.scatterplot(\n",
        "    x = y_teste.values,\n",
        "    y = predicoes_nota_linguagem\n",
        ")\n",
        "\n",
        "plt.show()"
      ],
      "execution_count": 102,
      "outputs": [
        {
          "output_type": "display_data",
          "data": {
            "image/png": "[encoded data removed]",
            "text/plain": [
              "<Figure size 576x576 with 1 Axes>"
            ]
          },
          "metadata": {
            "tags": []
          }
        }
      ]
    },
    {
      "cell_type": "markdown",
      "metadata": {
        "id": "WHrQGdesBDJp",
        "colab_type": "text"
      },
      "source": [
        "## Desafio 4 do [Guilherme Silveira](https://twitter.com/guilhermecaelum)\n",
        "\n",
        "Interpretar tudo que foi feito e compartilhar suas conclusões"
      ]
    },
    {
      "cell_type": "markdown",
      "metadata": {
        "id": "fEp869wvUPRi",
        "colab_type": "text"
      },
      "source": [
        "É importante reparar na importância que determinados dados representam durante a análise e também na previsão dos dados. A retirada dos valores NaN e 0s alterou consideravelmente o resultado final das predições. Apesar de nos desafios eu ter usado somente o LinearSVR, existem outros métodos de regressão (cada um com seu objetivo e precisão em determinada circunstância) que também nos auxiliam como cientistas de dados à encontrar as previsões mais precisas possíveis.\n",
        "\n",
        "Apesar do algoritmo não ser perfeito, o Machine Learning nos permite alcançar precisões maiores do que conseguiríamos com um cálculo de média por exemplo.\n",
        "\n",
        "_OBS: As conclusões estão disponíveis também para cada exercício_"
      ]
    },
    {
      "cell_type": "markdown",
      "metadata": {
        "id": "w5nybh8yBOT3",
        "colab_type": "text"
      },
      "source": [
        "## Desafio 5 do [Thiago Gonçalves](https://twitter.com/tgcsantos)\n",
        "\n",
        "Calcule as métricas de erro que utilizamos (mean square root error) também no conjunto de treino, e veja o que acontece comparado com o conjunto de teste."
      ]
    },
    {
      "cell_type": "code",
      "metadata": {
        "id": "Lq5xTYYdWEql",
        "colab_type": "code",
        "colab": {}
      },
      "source": [
        "x = dados_notas[[\n",
        "                 'ciencias_naturais',\n",
        "                 'ciencias_humanas',\n",
        "                 'matematica',\n",
        "                 'redacao'\n",
        "]]\n",
        "\n",
        "y = dados_notas['linguagem_codigo']"
      ],
      "execution_count": 0,
      "outputs": []
    },
    {
      "cell_type": "code",
      "metadata": {
        "id": "N-r9PaStVyF5",
        "colab_type": "code",
        "colab": {
          "base_uri": "https://localhost:8080/",
          "height": 86
        },
        "outputId": "fa659c0e-d6f0-4405-8863-252f7bfe8d35"
      },
      "source": [
        "from sklearn.model_selection import train_test_split\n",
        "\n",
        "x_treino, x_teste, y_treino, y_teste = train_test_split(x, y, random_state = 326784)\n",
        "\n",
        "print(x_treino.shape)\n",
        "print(x_teste.shape)\n",
        "print(y_treino.shape)\n",
        "print(y_teste.shape)"
      ],
      "execution_count": 105,
      "outputs": [
        {
          "output_type": "stream",
          "text": [
            "(72952, 4)\n",
            "(24318, 4)\n",
            "(72952,)\n",
            "(24318,)\n"
          ],
          "name": "stdout"
        }
      ]
    },
    {
      "cell_type": "code",
      "metadata": {
        "id": "GSYIwAS9WzmC",
        "colab_type": "code",
        "colab": {
          "base_uri": "https://localhost:8080/",
          "height": 124
        },
        "outputId": "81458b5e-f0dc-41a7-fef8-3bd0ef0bcdd1"
      },
      "source": [
        "from sklearn.svm import LinearSVR\n",
        "\n",
        "modelo = LinearSVR()\n",
        "modelo.fit(x_treino, y_treino)"
      ],
      "execution_count": 106,
      "outputs": [
        {
          "output_type": "stream",
          "text": [
            "/usr/local/lib/python3.6/dist-packages/sklearn/svm/_base.py:947: ConvergenceWarning: Liblinear failed to converge, increase the number of iterations.\n",
            "  \"the number of iterations.\", ConvergenceWarning)\n"
          ],
          "name": "stderr"
        },
        {
          "output_type": "execute_result",
          "data": {
            "text/plain": [
              "LinearSVR(C=1.0, dual=True, epsilon=0.0, fit_intercept=True,\n",
              "          intercept_scaling=1.0, loss='epsilon_insensitive', max_iter=1000,\n",
              "          random_state=None, tol=0.0001, verbose=0)"
            ]
          },
          "metadata": {
            "tags": []
          },
          "execution_count": 106
        }
      ]
    },
    {
      "cell_type": "code",
      "metadata": {
        "id": "xWYa3v3bW8q2",
        "colab_type": "code",
        "colab": {
          "base_uri": "https://localhost:8080/",
          "height": 52
        },
        "outputId": "8ad9257a-dbda-4bfe-b58a-5f6f0f3c884d"
      },
      "source": [
        "predicoes_nota_linguagem = modelo.predict(x_teste)\n",
        "predicoes_nota_linguagem[:5]"
      ],
      "execution_count": 107,
      "outputs": [
        {
          "output_type": "execute_result",
          "data": {
            "text/plain": [
              "array([646.86930127, 667.38985833, 711.08575141, 618.6670342 ,\n",
              "       511.0504314 ])"
            ]
          },
          "metadata": {
            "tags": []
          },
          "execution_count": 107
        }
      ]
    },
    {
      "cell_type": "code",
      "metadata": {
        "id": "4NY2NhrMXB9e",
        "colab_type": "code",
        "colab": {
          "base_uri": "https://localhost:8080/",
          "height": 121
        },
        "outputId": "e8e24576-0b63-4599-e7de-f75ebf2be32c"
      },
      "source": [
        "y_teste[:5]"
      ],
      "execution_count": 109,
      "outputs": [
        {
          "output_type": "execute_result",
          "data": {
            "text/plain": [
              "67300    577.20\n",
              "113766   624.40\n",
              "48328    703.00\n",
              "9454     598.60\n",
              "9515     458.60\n",
              "Name: linguagem_codigo, dtype: float64"
            ]
          },
          "metadata": {
            "tags": []
          },
          "execution_count": 109
        }
      ]
    },
    {
      "cell_type": "code",
      "metadata": {
        "id": "i1IilX8KXCyL",
        "colab_type": "code",
        "colab": {
          "base_uri": "https://localhost:8080/",
          "height": 34
        },
        "outputId": "1946f04f-2bba-471c-e3d6-5210f012a175"
      },
      "source": [
        "from sklearn.metrics import mean_squared_error\n",
        "\n",
        "mean_squared_error(y_teste, predicoes_nota_linguagem)"
      ],
      "execution_count": 117,
      "outputs": [
        {
          "output_type": "execute_result",
          "data": {
            "text/plain": [
              "5571.68"
            ]
          },
          "metadata": {
            "tags": []
          },
          "execution_count": 117
        }
      ]
    },
    {
      "cell_type": "code",
      "metadata": {
        "id": "p6ZW8jtAYTM6",
        "colab_type": "code",
        "colab": {
          "base_uri": "https://localhost:8080/",
          "height": 124
        },
        "outputId": "ce58ace3-4f26-4845-b902-f5a513325280"
      },
      "source": [
        "from sklearn.svm import LinearSVR\n",
        "\n",
        "modelo = LinearSVR()\n",
        "modelo.fit(x_teste, y_teste)"
      ],
      "execution_count": 118,
      "outputs": [
        {
          "output_type": "stream",
          "text": [
            "/usr/local/lib/python3.6/dist-packages/sklearn/svm/_base.py:947: ConvergenceWarning: Liblinear failed to converge, increase the number of iterations.\n",
            "  \"the number of iterations.\", ConvergenceWarning)\n"
          ],
          "name": "stderr"
        },
        {
          "output_type": "execute_result",
          "data": {
            "text/plain": [
              "LinearSVR(C=1.0, dual=True, epsilon=0.0, fit_intercept=True,\n",
              "          intercept_scaling=1.0, loss='epsilon_insensitive', max_iter=1000,\n",
              "          random_state=None, tol=0.0001, verbose=0)"
            ]
          },
          "metadata": {
            "tags": []
          },
          "execution_count": 118
        }
      ]
    },
    {
      "cell_type": "code",
      "metadata": {
        "id": "WGq-xKneYZM5",
        "colab_type": "code",
        "colab": {
          "base_uri": "https://localhost:8080/",
          "height": 52
        },
        "outputId": "d1a14a08-d6eb-4544-dee0-bede7f4dd6a8"
      },
      "source": [
        "predicoes_nota_linguagem = modelo.predict(x_treino)\n",
        "predicoes_nota_linguagem[:5]"
      ],
      "execution_count": 119,
      "outputs": [
        {
          "output_type": "execute_result",
          "data": {
            "text/plain": [
              "array([666.58967631, 628.63838916, 496.77135128, 487.03998172,\n",
              "       867.97868901])"
            ]
          },
          "metadata": {
            "tags": []
          },
          "execution_count": 119
        }
      ]
    },
    {
      "cell_type": "code",
      "metadata": {
        "id": "ANIEezptYj51",
        "colab_type": "code",
        "colab": {
          "base_uri": "https://localhost:8080/",
          "height": 121
        },
        "outputId": "2c85d6c1-149e-4064-a258-37891625d46f"
      },
      "source": [
        "y_treino[:5]"
      ],
      "execution_count": 120,
      "outputs": [
        {
          "output_type": "execute_result",
          "data": {
            "text/plain": [
              "25012   608.10\n",
              "52044   622.00\n",
              "86543   476.40\n",
              "36362   531.60\n",
              "96734   725.90\n",
              "Name: linguagem_codigo, dtype: float64"
            ]
          },
          "metadata": {
            "tags": []
          },
          "execution_count": 120
        }
      ]
    },
    {
      "cell_type": "code",
      "metadata": {
        "id": "L_WTKmCPXZuj",
        "colab_type": "code",
        "colab": {
          "base_uri": "https://localhost:8080/",
          "height": 34
        },
        "outputId": "1545355f-dedc-4963-d025-4ef54718e236"
      },
      "source": [
        "from sklearn.metrics import mean_squared_error\n",
        "\n",
        "mean_squared_error(y_treino, predicoes_nota_linguagem)"
      ],
      "execution_count": 122,
      "outputs": [
        {
          "output_type": "execute_result",
          "data": {
            "text/plain": [
              "2725.59"
            ]
          },
          "metadata": {
            "tags": []
          },
          "execution_count": 122
        }
      ]
    },
    {
      "cell_type": "markdown",
      "metadata": {
        "id": "Jjm-pTaaYxey",
        "colab_type": "text"
      },
      "source": [
        "Quanto menor for o mean_squared_error() mais precisa é a previsão de valores. O que me chamou a atenção foi a inversão dos valores de treino e teste ter reduzido a taxa de erro consideravelmente.\n",
        "\n",
        "Tenho 2 teorias para o que pode ter causado essa diferença. \n",
        "\n",
        "Uma é que, no último caso, estamos prevendo um número muito maior de notas, então o computador tem mais \"espaço\" para errar sem prejudicar muito o resultado. \n",
        "\n",
        "Outra possibilidade é que, no primeiro caso, dando mais valores para a máquina ela pode ter \"decorado\" os valores fornecidos, ou seja, se acostumou com os valores que se repetiam muitas vezes de forma que se tornou prejudicial na previsão. Em outras palavras, a máquina não teria guardado tendências, mas sim os valores. Quando era apresentado com um valor muito diferente do esperado, a previsão foi muito mais imprecisa."
      ]
    }
  ]
}
